{
 "cells": [
  {
   "cell_type": "code",
   "execution_count": 8,
   "metadata": {},
   "outputs": [
    {
     "name": "stdout",
     "output_type": "stream",
     "text": [
      "Requirement already satisfied: matplotlib in /Library/Frameworks/Python.framework/Versions/3.7/lib/python3.7/site-packages (from -r requirements.txt (line 1)) (3.0.3)\n",
      "Requirement already satisfied: numpy in /Library/Frameworks/Python.framework/Versions/3.7/lib/python3.7/site-packages (from -r requirements.txt (line 2)) (1.16.0)\n",
      "Requirement already satisfied: scipy in /Library/Frameworks/Python.framework/Versions/3.7/lib/python3.7/site-packages (from -r requirements.txt (line 3)) (1.4.1)\n",
      "Requirement already satisfied: pandas in /Library/Frameworks/Python.framework/Versions/3.7/lib/python3.7/site-packages (from -r requirements.txt (line 4)) (0.24.2)\n",
      "Collecting fsspec (from -r requirements.txt (line 5))\n",
      "\u001b[?25l  Downloading https://files.pythonhosted.org/packages/82/f3/30f7925f22f623ebac35b40d48151578ef7303d897764e1d95323727611b/fsspec-2022.8.2-py3-none-any.whl (140kB)\n",
      "\u001b[K    100% |████████████████████████████████| 143kB 5.5MB/s ta 0:00:01\n",
      "\u001b[?25hRequirement already satisfied: pyyaml in /Library/Frameworks/Python.framework/Versions/3.7/lib/python3.7/site-packages (from -r requirements.txt (line 6)) (5.1)\n",
      "Requirement already satisfied: requests in /Library/Frameworks/Python.framework/Versions/3.7/lib/python3.7/site-packages (from -r requirements.txt (line 7)) (2.21.0)\n",
      "Collecting aiohttp (from -r requirements.txt (line 8))\n",
      "\u001b[?25l  Downloading https://files.pythonhosted.org/packages/1e/14/ebd9b8c48532c4e3f6c1821a0fede15176cc80d653e0dfa16526005ad654/aiohttp-3.8.3-cp37-cp37m-macosx_10_9_x86_64.whl (355kB)\n",
      "\u001b[K    100% |████████████████████████████████| 358kB 11.7MB/s ta 0:00:01\n",
      "\u001b[?25hCollecting intake (from -r requirements.txt (line 9))\n",
      "\u001b[?25l  Downloading https://files.pythonhosted.org/packages/f9/12/562a398b9bf02579f8d8e3c7daa1ddd2b269aa41555f6dbec3cd8ba3c81c/intake-0.6.6-py3-none-any.whl (1.5MB)\n",
      "\u001b[K    100% |████████████████████████████████| 1.5MB 1.8MB/s ta 0:00:011\n",
      "\u001b[?25hCollecting intake-xarray (from -r requirements.txt (line 10))\n",
      "\u001b[?25l  Downloading https://files.pythonhosted.org/packages/1d/b0/789f1eb0b5a9c150ce03387bddc1de322cb3141881a836163ae42b27d771/intake_xarray-0.6.1-py3-none-any.whl (1.9MB)\n",
      "\u001b[K    100% |████████████████████████████████| 1.9MB 12.0MB/s ta 0:00:01\n",
      "\u001b[?25hCollecting pydantic (from -r requirements.txt (line 11))\n",
      "\u001b[?25l  Downloading https://files.pythonhosted.org/packages/c2/f7/9c79223c4131bd258dd4b362e426804346b62b1a2e7c914f3eefd6f9f73c/pydantic-1.10.2-cp37-cp37m-macosx_10_9_x86_64.whl (3.0MB)\n",
      "\u001b[K    100% |████████████████████████████████| 3.0MB 7.6MB/s eta 0:00:01\n",
      "\u001b[?25hCollecting exifread (from -r requirements.txt (line 12))\n",
      "\u001b[?25l  Downloading https://files.pythonhosted.org/packages/db/d6/189b0016ae8995ad94cd6e2573baf0c289ff862996821d4e42eb6a0206e3/ExifRead-3.0.0-py3-none-any.whl (40kB)\n",
      "\u001b[K    100% |████████████████████████████████| 40kB 11.6MB/s ta 0:00:01\n",
      "\u001b[?25hCollecting distinctipy (from -r requirements.txt (line 13))\n",
      "  Downloading https://files.pythonhosted.org/packages/c0/ed/a9a5f7835f4ec23bba9530045bbf6f8f421a331d1a125b48c3cfd182e80d/distinctipy-1.2.2-py3-none-any.whl\n",
      "Requirement already satisfied: ipython in /Library/Frameworks/Python.framework/Versions/3.7/lib/python3.7/site-packages (from -r requirements.txt (line 14)) (7.9.0)\n",
      "Requirement already satisfied: pyparsing!=2.0.4,!=2.1.2,!=2.1.6,>=2.0.1 in /Library/Frameworks/Python.framework/Versions/3.7/lib/python3.7/site-packages (from matplotlib->-r requirements.txt (line 1)) (2.3.1)\n",
      "Requirement already satisfied: kiwisolver>=1.0.1 in /Library/Frameworks/Python.framework/Versions/3.7/lib/python3.7/site-packages (from matplotlib->-r requirements.txt (line 1)) (1.0.1)\n",
      "Requirement already satisfied: python-dateutil>=2.1 in /Library/Frameworks/Python.framework/Versions/3.7/lib/python3.7/site-packages (from matplotlib->-r requirements.txt (line 1)) (2.8.0)\n",
      "Requirement already satisfied: cycler>=0.10 in /Library/Frameworks/Python.framework/Versions/3.7/lib/python3.7/site-packages (from matplotlib->-r requirements.txt (line 1)) (0.10.0)\n",
      "Requirement already satisfied: pytz>=2011k in /Library/Frameworks/Python.framework/Versions/3.7/lib/python3.7/site-packages (from pandas->-r requirements.txt (line 4)) (2018.9)\n",
      "Requirement already satisfied: certifi>=2017.4.17 in /Library/Frameworks/Python.framework/Versions/3.7/lib/python3.7/site-packages (from requests->-r requirements.txt (line 7)) (2019.11.28)\n",
      "Requirement already satisfied: chardet<3.1.0,>=3.0.2 in /Library/Frameworks/Python.framework/Versions/3.7/lib/python3.7/site-packages (from requests->-r requirements.txt (line 7)) (3.0.4)\n",
      "Requirement already satisfied: idna<2.9,>=2.5 in /Library/Frameworks/Python.framework/Versions/3.7/lib/python3.7/site-packages (from requests->-r requirements.txt (line 7)) (2.8)\n",
      "Requirement already satisfied: urllib3<1.25,>=1.21.1 in /Library/Frameworks/Python.framework/Versions/3.7/lib/python3.7/site-packages (from requests->-r requirements.txt (line 7)) (1.24.2)\n",
      "Requirement already satisfied: attrs>=17.3.0 in /Library/Frameworks/Python.framework/Versions/3.7/lib/python3.7/site-packages (from aiohttp->-r requirements.txt (line 8)) (19.1.0)\n",
      "Collecting async-timeout<5.0,>=4.0.0a3 (from aiohttp->-r requirements.txt (line 8))\n",
      "  Downloading https://files.pythonhosted.org/packages/d6/c1/8991e7c5385b897b8c020cdaad718c5b087a6626d1d11a23e1ea87e325a7/async_timeout-4.0.2-py3-none-any.whl\n",
      "Collecting yarl<2.0,>=1.0 (from aiohttp->-r requirements.txt (line 8))\n",
      "\u001b[?25l  Downloading https://files.pythonhosted.org/packages/e5/95/e9257227d69a6e5fc9d542dbaa78798441bf9c3b7253c5868bda358991f3/yarl-1.8.1-cp37-cp37m-macosx_10_9_x86_64.whl (60kB)\n",
      "\u001b[K    100% |████████████████████████████████| 61kB 24.7MB/s ta 0:00:01\n",
      "\u001b[?25hCollecting multidict<7.0,>=4.5 (from aiohttp->-r requirements.txt (line 8))\n",
      "  Downloading https://files.pythonhosted.org/packages/f6/2c/2f48aa1fd3b89fb632de50c0567f8168e2b75d0b92326ca6ac991aecb0ee/multidict-6.0.2-cp37-cp37m-macosx_10_9_x86_64.whl\n",
      "Collecting frozenlist>=1.1.1 (from aiohttp->-r requirements.txt (line 8))\n",
      "  Downloading https://files.pythonhosted.org/packages/3e/1c/ad7ac7935d1e8080ff0bb60ea80508e15d9c3e8dab804421e08af5de145d/frozenlist-1.3.1-cp37-cp37m-macosx_10_9_x86_64.whl\n",
      "Collecting charset-normalizer<3.0,>=2.0 (from aiohttp->-r requirements.txt (line 8))\n",
      "  Downloading https://files.pythonhosted.org/packages/db/51/a507c856293ab05cdc1db77ff4bc1268ddd39f29e7dc4919aa497f0adbec/charset_normalizer-2.1.1-py3-none-any.whl\n",
      "Collecting aiosignal>=1.1.2 (from aiohttp->-r requirements.txt (line 8))\n",
      "  Downloading https://files.pythonhosted.org/packages/3b/87/fe94898f2d44a93a35d5aa74671ed28094d80753a1113d68b799fab6dc22/aiosignal-1.2.0-py3-none-any.whl\n",
      "Collecting typing-extensions>=3.7.4; python_version < \"3.8\" (from aiohttp->-r requirements.txt (line 8))\n",
      "  Downloading https://files.pythonhosted.org/packages/ed/d6/2afc375a8d55b8be879d6b4986d4f69f01115e795e36827fd3a40166028b/typing_extensions-4.3.0-py3-none-any.whl\n",
      "Collecting asynctest==0.13.0; python_version < \"3.8\" (from aiohttp->-r requirements.txt (line 8))\n",
      "  Downloading https://files.pythonhosted.org/packages/e8/b6/8d17e169d577ca7678b11cd0d3ceebb0a6089a7f4a2de4b945fe4b1c86db/asynctest-0.13.0-py3-none-any.whl\n",
      "Collecting msgpack (from intake->-r requirements.txt (line 9))\n",
      "\u001b[?25l  Downloading https://files.pythonhosted.org/packages/a6/65/5b283e66b89d3b41f1b30fd42da70a609b5432b764f5cd6fed23d3b4699b/msgpack-1.0.4-cp37-cp37m-macosx_10_9_x86_64.whl (72kB)\n",
      "\u001b[K    100% |████████████████████████████████| 81kB 32.9MB/s ta 0:00:01\n",
      "\u001b[?25hRequirement already satisfied: jinja2 in /Library/Frameworks/Python.framework/Versions/3.7/lib/python3.7/site-packages (from intake->-r requirements.txt (line 9)) (2.10.1)\n",
      "Requirement already satisfied: entrypoints in /Library/Frameworks/Python.framework/Versions/3.7/lib/python3.7/site-packages (from intake->-r requirements.txt (line 9)) (0.3)\n",
      "Collecting appdirs (from intake->-r requirements.txt (line 9))\n",
      "  Downloading https://files.pythonhosted.org/packages/3b/00/2344469e2084fb287c2e0b57b72910309874c3245463acd6cf5e3db69324/appdirs-1.4.4-py2.py3-none-any.whl\n",
      "Collecting dask (from intake->-r requirements.txt (line 9))\n",
      "\u001b[?25l  Downloading https://files.pythonhosted.org/packages/bd/d6/dc58c32e72cc69f4fe59ed51060b4a3e6fbbfa62dced0c4e132403fb61e8/dask-2022.2.0-py3-none-any.whl (1.1MB)\n"
     ]
    },
    {
     "name": "stdout",
     "output_type": "stream",
     "text": [
      "\u001b[K    100% |████████████████████████████████| 1.1MB 24.8MB/s ta 0:00:01\n",
      "\u001b[?25hCollecting xarray>=02022 (from intake-xarray->-r requirements.txt (line 10))\n",
      "\u001b[31m  Could not find a version that satisfies the requirement xarray>=02022 (from intake-xarray->-r requirements.txt (line 10)) (from versions: 0.7.0, 0.7.1, 0.7.2, 0.8.0rc1, 0.8.0, 0.8.1, 0.8.2, 0.9.0rc1, 0.9.0, 0.9.1, 0.9.2, 0.9.3, 0.9.4, 0.9.5, 0.9.6, 0.10.0rc1, 0.10.0rc2, 0.10.0, 0.10.1, 0.10.2, 0.10.3, 0.10.4, 0.10.5, 0.10.6, 0.10.7, 0.10.8, 0.10.9, 0.11.0, 0.11.1, 0.11.2, 0.11.3, 0.12.0, 0.12.1, 0.12.2, 0.12.3, 0.13.0, 0.14.0, 0.14.1, 0.15.0, 0.15.1, 0.16.0, 0.16.1, 0.16.2, 0.17.0, 0.18.0, 0.18.1, 0.18.2, 0.19.0, 0.20.0, 0.20.1, 0.20.2)\u001b[0m\n",
      "\u001b[31mNo matching distribution found for xarray>=02022 (from intake-xarray->-r requirements.txt (line 10))\u001b[0m\n",
      "\u001b[33mYou are using pip version 18.1, however version 22.2.2 is available.\n",
      "You should consider upgrading via the 'pip install --upgrade pip' command.\u001b[0m\n"
     ]
    }
   ],
   "source": [
    "!pip3 install -r requirements.txt"
   ]
  },
  {
   "cell_type": "code",
   "execution_count": 14,
   "metadata": {},
   "outputs": [
    {
     "name": "stdout",
     "output_type": "stream",
     "text": [
      "Collecting git+https://github.com/ots22/intake-xarray@feature/exif\n",
      "  Cloning https://github.com/ots22/intake-xarray (to revision feature/exif) to /private/var/folders/rp/m3_7_sx9575bmz9_6hq51zph0000gn/T/pip-req-build-0qyhr8em\n",
      "Branch 'feature/exif' set up to track remote branch 'feature/exif' from 'origin'.\n",
      "Switched to a new branch 'feature/exif'\n",
      "Collecting intake>=0.5.2 (from intake-xarray==0.5.0+21.gd05c3ac)\n",
      "  Using cached https://files.pythonhosted.org/packages/f9/12/562a398b9bf02579f8d8e3c7daa1ddd2b269aa41555f6dbec3cd8ba3c81c/intake-0.6.6-py3-none-any.whl\n",
      "Collecting xarray>=0.17.0 (from intake-xarray==0.5.0+21.gd05c3ac)\n",
      "\u001b[?25l  Downloading https://files.pythonhosted.org/packages/09/6b/4fccd68a149a63507d9ca4e269312614e093f0204e78eab0d67760b597da/xarray-0.20.2-py3-none-any.whl (845kB)\n",
      "\u001b[K    100% |████████████████████████████████| 849kB 20.4MB/s ta 0:00:01\n",
      "\u001b[?25hCollecting zarr (from intake-xarray==0.5.0+21.gd05c3ac)\n",
      "\u001b[?25l  Downloading https://files.pythonhosted.org/packages/56/a6/817d25f7b77b695b1014030bfff90288846862a50d72c1ee85a8a233c040/zarr-2.12.0-py3-none-any.whl (185kB)\n",
      "\u001b[K    100% |████████████████████████████████| 194kB 36.5MB/s ta 0:00:01\n",
      "\u001b[?25hCollecting dask>=2.2 (from intake-xarray==0.5.0+21.gd05c3ac)\n",
      "  Using cached https://files.pythonhosted.org/packages/bd/d6/dc58c32e72cc69f4fe59ed51060b4a3e6fbbfa62dced0c4e132403fb61e8/dask-2022.2.0-py3-none-any.whl\n",
      "Collecting netcdf4 (from intake-xarray==0.5.0+21.gd05c3ac)\n",
      "\u001b[?25l  Downloading https://files.pythonhosted.org/packages/34/b2/9877357d4056a4087c3538f1f2dfa3ba7b1b426c0187156cec97cb419a99/netCDF4-1.6.1-cp37-cp37m-macosx_10_9_x86_64.whl (4.1MB)\n",
      "\u001b[K    100% |████████████████████████████████| 4.1MB 5.8MB/s eta 0:00:01\n",
      "\u001b[?25hCollecting fsspec>0.8.3 (from intake-xarray==0.5.0+21.gd05c3ac)\n",
      "  Using cached https://files.pythonhosted.org/packages/82/f3/30f7925f22f623ebac35b40d48151578ef7303d897764e1d95323727611b/fsspec-2022.8.2-py3-none-any.whl\n",
      "Collecting msgpack (from intake-xarray==0.5.0+21.gd05c3ac)\n",
      "  Using cached https://files.pythonhosted.org/packages/a6/65/5b283e66b89d3b41f1b30fd42da70a609b5432b764f5cd6fed23d3b4699b/msgpack-1.0.4-cp37-cp37m-macosx_10_9_x86_64.whl\n",
      "Requirement already satisfied: requests in /Library/Frameworks/Python.framework/Versions/3.7/lib/python3.7/site-packages (from intake-xarray==0.5.0+21.gd05c3ac) (2.21.0)\n",
      "Requirement already satisfied: jinja2 in /Library/Frameworks/Python.framework/Versions/3.7/lib/python3.7/site-packages (from intake>=0.5.2->intake-xarray==0.5.0+21.gd05c3ac) (2.10.1)\n",
      "Requirement already satisfied: pyyaml in /Library/Frameworks/Python.framework/Versions/3.7/lib/python3.7/site-packages (from intake>=0.5.2->intake-xarray==0.5.0+21.gd05c3ac) (5.1)\n",
      "Collecting appdirs (from intake>=0.5.2->intake-xarray==0.5.0+21.gd05c3ac)\n",
      "  Using cached https://files.pythonhosted.org/packages/3b/00/2344469e2084fb287c2e0b57b72910309874c3245463acd6cf5e3db69324/appdirs-1.4.4-py2.py3-none-any.whl\n",
      "Requirement already satisfied: entrypoints in /Library/Frameworks/Python.framework/Versions/3.7/lib/python3.7/site-packages (from intake>=0.5.2->intake-xarray==0.5.0+21.gd05c3ac) (0.3)\n",
      "Collecting typing-extensions>=3.7; python_version < \"3.8\" (from xarray>=0.17.0->intake-xarray==0.5.0+21.gd05c3ac)\n",
      "  Using cached https://files.pythonhosted.org/packages/ed/d6/2afc375a8d55b8be879d6b4986d4f69f01115e795e36827fd3a40166028b/typing_extensions-4.3.0-py3-none-any.whl\n",
      "Collecting numpy>=1.18 (from xarray>=0.17.0->intake-xarray==0.5.0+21.gd05c3ac)\n",
      "\u001b[?25l  Downloading https://files.pythonhosted.org/packages/32/dd/43d8b2b2ebf424f6555271a4c9f5b50dc3cc0aafa66c72b4d36863f71358/numpy-1.21.6-cp37-cp37m-macosx_10_9_x86_64.whl (16.9MB)\n",
      "\u001b[K    100% |████████████████████████████████| 16.9MB 2.1MB/s ta 0:00:011\n",
      "\u001b[?25hCollecting pandas>=1.1 (from xarray>=0.17.0->intake-xarray==0.5.0+21.gd05c3ac)\n",
      "\u001b[?25l  Downloading https://files.pythonhosted.org/packages/44/d9/fa9cb383b482b574e6926eabc437fe57b59908a7ed940612c8c308471872/pandas-1.3.5-cp37-cp37m-macosx_10_9_x86_64.whl (11.0MB)\n",
      "\u001b[K    100% |████████████████████████████████| 11.0MB 3.2MB/s eta 0:00:01\n",
      "\u001b[?25hCollecting importlib-metadata; python_version < \"3.8\" (from xarray>=0.17.0->intake-xarray==0.5.0+21.gd05c3ac)\n",
      "  Downloading https://files.pythonhosted.org/packages/d2/a2/8c239dc898138f208dd14b441b196e7b3032b94d3137d9d8453e186967fc/importlib_metadata-4.12.0-py3-none-any.whl\n",
      "Collecting numcodecs>=0.6.4 (from zarr->intake-xarray==0.5.0+21.gd05c3ac)\n",
      "\u001b[?25l  Downloading https://files.pythonhosted.org/packages/5f/6c/37e86f2a3a2d225cfd75f9260cbfad22e60cf5e4734ddc2bb3e39da7fc6e/numcodecs-0.10.2-cp37-cp37m-macosx_10_9_x86_64.whl (1.4MB)\n",
      "\u001b[K    100% |████████████████████████████████| 1.4MB 6.5MB/s eta 0:00:01\n",
      "\u001b[?25hCollecting fasteners (from zarr->intake-xarray==0.5.0+21.gd05c3ac)\n",
      "  Downloading https://files.pythonhosted.org/packages/bc/a2/7d35ba2c8d9963398fcec49cd814e50a6b920d213928f06fdbbf8aa3289b/fasteners-0.18-py3-none-any.whl\n",
      "Collecting asciitree (from zarr->intake-xarray==0.5.0+21.gd05c3ac)\n",
      "  Downloading https://files.pythonhosted.org/packages/2d/6a/885bc91484e1aa8f618f6f0228d76d0e67000b0fdd6090673b777e311913/asciitree-0.3.3.tar.gz\n",
      "Collecting toolz>=0.8.2 (from dask>=2.2->intake-xarray==0.5.0+21.gd05c3ac)\n",
      "\u001b[?25l  Downloading https://files.pythonhosted.org/packages/7f/5c/922a3508f5bda2892be3df86c74f9cf1e01217c2b1f8a0ac4841d903e3e9/toolz-0.12.0-py3-none-any.whl (55kB)\n",
      "\u001b[K    100% |████████████████████████████████| 61kB 6.7MB/s ta 0:00:01\n",
      "\u001b[?25hCollecting partd>=0.3.10 (from dask>=2.2->intake-xarray==0.5.0+21.gd05c3ac)\n",
      "  Downloading https://files.pythonhosted.org/packages/4d/ea/879a276326ed87ab2595c13bb1d43ba49a2e435386417e95bf23b131a209/partd-1.3.0-py3-none-any.whl\n",
      "Collecting cloudpickle>=1.1.1 (from dask>=2.2->intake-xarray==0.5.0+21.gd05c3ac)\n",
      "  Downloading https://files.pythonhosted.org/packages/cf/26/cd6c4177273ee35f7a31245893489c68bc340988f12ca315b392f1f18a93/cloudpickle-2.2.0-py3-none-any.whl\n",
      "Collecting packaging>=20.0 (from dask>=2.2->intake-xarray==0.5.0+21.gd05c3ac)\n",
      "\u001b[?25l  Downloading https://files.pythonhosted.org/packages/05/8e/8de486cbd03baba4deef4142bd643a3e7bbe954a784dc1bb17142572d127/packaging-21.3-py3-none-any.whl (40kB)\n",
      "\u001b[K    100% |████████████████████████████████| 40kB 17.3MB/s ta 0:00:01\n",
      "\u001b[?25hCollecting cftime (from netcdf4->intake-xarray==0.5.0+21.gd05c3ac)\n",
      "\u001b[?25l  Downloading https://files.pythonhosted.org/packages/46/99/39fcc3697b37f1fcce8ce6c16d5a4d6a7647f3b08fd00a86cf4ecce051b6/cftime-1.6.2-cp37-cp37m-macosx_10_9_x86_64.whl (245kB)\n",
      "\u001b[K    100% |████████████████████████████████| 256kB 15.9MB/s ta 0:00:01\n",
      "\u001b[?25hRequirement already satisfied: chardet<3.1.0,>=3.0.2 in /Library/Frameworks/Python.framework/Versions/3.7/lib/python3.7/site-packages (from requests->intake-xarray==0.5.0+21.gd05c3ac) (3.0.4)\n",
      "Requirement already satisfied: certifi>=2017.4.17 in /Library/Frameworks/Python.framework/Versions/3.7/lib/python3.7/site-packages (from requests->intake-xarray==0.5.0+21.gd05c3ac) (2019.11.28)\n",
      "Requirement already satisfied: urllib3<1.25,>=1.21.1 in /Library/Frameworks/Python.framework/Versions/3.7/lib/python3.7/site-packages (from requests->intake-xarray==0.5.0+21.gd05c3ac) (1.24.2)\n",
      "Requirement already satisfied: idna<2.9,>=2.5 in /Library/Frameworks/Python.framework/Versions/3.7/lib/python3.7/site-packages (from requests->intake-xarray==0.5.0+21.gd05c3ac) (2.8)\n",
      "Requirement already satisfied: MarkupSafe>=0.23 in /Library/Frameworks/Python.framework/Versions/3.7/lib/python3.7/site-packages (from jinja2->intake>=0.5.2->intake-xarray==0.5.0+21.gd05c3ac) (1.1.1)\n",
      "Requirement already satisfied: python-dateutil>=2.7.3 in /Library/Frameworks/Python.framework/Versions/3.7/lib/python3.7/site-packages (from pandas>=1.1->xarray>=0.17.0->intake-xarray==0.5.0+21.gd05c3ac) (2.8.0)\n",
      "Requirement already satisfied: pytz>=2017.3 in /Library/Frameworks/Python.framework/Versions/3.7/lib/python3.7/site-packages (from pandas>=1.1->xarray>=0.17.0->intake-xarray==0.5.0+21.gd05c3ac) (2018.9)\n",
      "Collecting zipp>=0.5 (from importlib-metadata; python_version < \"3.8\"->xarray>=0.17.0->intake-xarray==0.5.0+21.gd05c3ac)\n",
      "  Downloading https://files.pythonhosted.org/packages/f0/36/639d6742bcc3ffdce8b85c31d79fcfae7bb04b95f0e5c4c6f8b206a038cc/zipp-3.8.1-py3-none-any.whl\n",
      "Collecting locket (from partd>=0.3.10->dask>=2.2->intake-xarray==0.5.0+21.gd05c3ac)\n",
      "  Downloading https://files.pythonhosted.org/packages/db/bc/83e112abc66cd466c6b83f99118035867cecd41802f8d044638aa78a106e/locket-1.0.0-py2.py3-none-any.whl\n"
     ]
    },
    {
     "name": "stdout",
     "output_type": "stream",
     "text": [
      "Requirement already satisfied: pyparsing!=3.0.5,>=2.0.2 in /Library/Frameworks/Python.framework/Versions/3.7/lib/python3.7/site-packages (from packaging>=20.0->dask>=2.2->intake-xarray==0.5.0+21.gd05c3ac) (2.3.1)\n",
      "Requirement already satisfied: six>=1.5 in /Library/Frameworks/Python.framework/Versions/3.7/lib/python3.7/site-packages (from python-dateutil>=2.7.3->pandas>=1.1->xarray>=0.17.0->intake-xarray==0.5.0+21.gd05c3ac) (1.12.0)\n",
      "Building wheels for collected packages: intake-xarray, asciitree\n",
      "  Running setup.py bdist_wheel for intake-xarray ... \u001b[?25ldone\n",
      "\u001b[?25h  Stored in directory: /private/var/folders/rp/m3_7_sx9575bmz9_6hq51zph0000gn/T/pip-ephem-wheel-cache-ijiz5etx/wheels/6c/08/93/cfa1998abea44356ac497380a4805e67c603fc8d137820e34c\n",
      "  Running setup.py bdist_wheel for asciitree ... \u001b[?25ldone\n",
      "\u001b[?25h  Stored in directory: /Users/rachaelharkness/Library/Caches/pip/wheels/1d/d9/58/9808b306744df0208fccc640d3d9952a5bc7468502d42897d5\n",
      "Successfully built intake-xarray asciitree\n",
      "\u001b[31mdask 2022.2.0 has requirement pyyaml>=5.3.1, but you'll have pyyaml 5.1 which is incompatible.\u001b[0m\n",
      "Installing collected packages: fsspec, msgpack, toolz, locket, partd, cloudpickle, packaging, dask, appdirs, intake, typing-extensions, numpy, pandas, zipp, importlib-metadata, xarray, numcodecs, fasteners, asciitree, zarr, cftime, netcdf4, intake-xarray\n",
      "  Found existing installation: packaging 19.0\n",
      "    Uninstalling packaging-19.0:\n",
      "      Successfully uninstalled packaging-19.0\n",
      "  Found existing installation: numpy 1.16.0\n",
      "    Uninstalling numpy-1.16.0:\n",
      "      Successfully uninstalled numpy-1.16.0\n",
      "  Found existing installation: pandas 0.24.2\n",
      "    Uninstalling pandas-0.24.2:\n",
      "      Successfully uninstalled pandas-0.24.2\n",
      "Successfully installed appdirs-1.4.4 asciitree-0.3.3 cftime-1.6.2 cloudpickle-2.2.0 dask-2022.2.0 fasteners-0.18 fsspec-2022.8.2 importlib-metadata-4.12.0 intake-0.6.6 intake-xarray-0.5.0+21.gd05c3ac locket-1.0.0 msgpack-1.0.4 netcdf4-1.6.1 numcodecs-0.10.2 numpy-1.21.6 packaging-21.3 pandas-1.3.5 partd-1.3.0 toolz-0.12.0 typing-extensions-4.3.0 xarray-0.20.2 zarr-2.12.0 zipp-3.8.1\n",
      "\u001b[33mYou are using pip version 18.1, however version 22.2.2 is available.\n",
      "You should consider upgrading via the 'pip install --upgrade pip' command.\u001b[0m\n"
     ]
    }
   ],
   "source": [
    "!pip3 install git+https://github.com/ots22/intake-xarray@feature/exif"
   ]
  },
  {
   "cell_type": "code",
   "execution_count": 18,
   "metadata": {},
   "outputs": [
    {
     "name": "stdout",
     "output_type": "stream",
     "text": [
      "Requirement already satisfied: pydantic in /Library/Frameworks/Python.framework/Versions/3.7/lib/python3.7/site-packages (1.10.2)\n",
      "Collecting distinctipy\n",
      "  Using cached https://files.pythonhosted.org/packages/c0/ed/a9a5f7835f4ec23bba9530045bbf6f8f421a331d1a125b48c3cfd182e80d/distinctipy-1.2.2-py3-none-any.whl\n",
      "Requirement already satisfied: typing-extensions>=4.1.0 in /Library/Frameworks/Python.framework/Versions/3.7/lib/python3.7/site-packages (from pydantic) (4.3.0)\n",
      "Requirement already satisfied: numpy in /Library/Frameworks/Python.framework/Versions/3.7/lib/python3.7/site-packages (from distinctipy) (1.21.6)\n",
      "Installing collected packages: distinctipy\n",
      "Successfully installed distinctipy-1.2.2\n",
      "\u001b[33mYou are using pip version 18.1, however version 22.2.2 is available.\n",
      "You should consider upgrading via the 'pip install --upgrade pip' command.\u001b[0m\n"
     ]
    }
   ],
   "source": [
    "!pip3 install pydantic distinctipy"
   ]
  },
  {
   "cell_type": "code",
   "execution_count": 19,
   "metadata": {},
   "outputs": [],
   "source": [
    "from scivision import default_catalog, load_pretrained_model"
   ]
  },
  {
   "cell_type": "code",
   "execution_count": null,
   "metadata": {},
   "outputs": [],
   "source": [
    "# Get the model repo url\n",
    "models_catalog = default_catalog.models.to_dataframe()\n",
    "model_repo = models_catalog[models_catalog.name == \"image-classifiers\"].url.item()\n",
    "model_repo # Why not paste the repo link into your browser and see how it looks?"
   ]
  },
  {
   "cell_type": "code",
   "execution_count": null,
   "metadata": {},
   "outputs": [],
   "source": [
    "# Inspecting model entry and its metadata in the default catalog\n",
    "models_catalog[models_catalog.name == \"image-classifiers\"]"
   ]
  },
  {
   "cell_type": "code",
   "execution_count": null,
   "metadata": {},
   "outputs": [],
   "source": [
    "# Note: when loading this model repo for the first time you'll need to add the allow_install=True flag\n",
    "model = load_pretrained_model(model_repo, allow_install=True)"
   ]
  },
  {
   "cell_type": "code",
   "execution_count": null,
   "metadata": {},
   "outputs": [],
   "source": [
    "model"
   ]
  },
  {
   "cell_type": "code",
   "execution_count": null,
   "metadata": {},
   "outputs": [],
   "source": [
    "compatible_datasources = default_catalog.compatible_datasources(\"image-classifiers\").to_dataframe()\n",
    "compatible_datasources"
   ]
  },
  {
   "cell_type": "code",
   "execution_count": null,
   "metadata": {},
   "outputs": [],
   "source": [
    "target_datasource = compatible_datasources.loc[compatible_datasources['name'] == 'data-007']\n",
    "target_datasource"
   ]
  },
  {
   "cell_type": "code",
   "execution_count": null,
   "metadata": {},
   "outputs": [],
   "source": [
    "from scivision import load_dataset"
   ]
  },
  {
   "cell_type": "code",
   "execution_count": null,
   "metadata": {},
   "outputs": [],
   "source": [
    "data_url = target_datasource['url'].item()"
   ]
  },
  {
   "cell_type": "code",
   "execution_count": null,
   "metadata": {},
   "outputs": [],
   "source": [
    "data_config = load_dataset(data_url)\n",
    "data_config"
   ]
  },
  {
   "cell_type": "code",
   "execution_count": null,
   "metadata": {},
   "outputs": [],
   "source": [
    "test_image = data_config.test_image().to_dask() # The xarray.DataArray is one format accepted by the our models\n",
    "test_image"
   ]
  },
  {
   "cell_type": "code",
   "execution_count": null,
   "metadata": {},
   "outputs": [],
   "source": [
    "import matplotlib.pyplot as plt\n",
    "plt.imshow(test_image)"
   ]
  }
 ],
 "metadata": {
  "kernelspec": {
   "display_name": "Python 3",
   "language": "python",
   "name": "python3"
  },
  "language_info": {
   "codemirror_mode": {
    "name": "ipython",
    "version": 3
   },
   "file_extension": ".py",
   "mimetype": "text/x-python",
   "name": "python",
   "nbconvert_exporter": "python",
   "pygments_lexer": "ipython3",
   "version": "3.7.2"
  }
 },
 "nbformat": 4,
 "nbformat_minor": 2
}
